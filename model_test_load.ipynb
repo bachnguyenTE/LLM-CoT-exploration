{
 "cells": [
  {
   "cell_type": "code",
   "execution_count": 1,
   "metadata": {},
   "outputs": [],
   "source": [
    "import torch\n",
    "import torch.nn as nn\n",
    "import torch.nn.functional as F\n",
    "from typing import Tuple\n",
    "\n",
    "from transformers import AutoModelForCausalLM, AutoTokenizer, AutoConfig\n",
    "import numpy as np"
   ]
  },
  {
   "cell_type": "code",
   "execution_count": 2,
   "metadata": {},
   "outputs": [
    {
     "data": {
      "text/plain": [
       "Qwen2Config {\n",
       "  \"_name_or_path\": \"deepseek-ai/DeepSeek-R1-Distill-Qwen-1.5B\",\n",
       "  \"architectures\": [\n",
       "    \"Qwen2ForCausalLM\"\n",
       "  ],\n",
       "  \"attention_dropout\": 0.0,\n",
       "  \"bos_token_id\": 151643,\n",
       "  \"eos_token_id\": 151643,\n",
       "  \"hidden_act\": \"silu\",\n",
       "  \"hidden_size\": 1536,\n",
       "  \"initializer_range\": 0.02,\n",
       "  \"intermediate_size\": 8960,\n",
       "  \"max_position_embeddings\": 131072,\n",
       "  \"max_window_layers\": 21,\n",
       "  \"model_type\": \"qwen2\",\n",
       "  \"num_attention_heads\": 12,\n",
       "  \"num_hidden_layers\": 28,\n",
       "  \"num_key_value_heads\": 2,\n",
       "  \"rms_norm_eps\": 1e-06,\n",
       "  \"rope_scaling\": null,\n",
       "  \"rope_theta\": 10000,\n",
       "  \"sliding_window\": null,\n",
       "  \"tie_word_embeddings\": false,\n",
       "  \"torch_dtype\": \"bfloat16\",\n",
       "  \"transformers_version\": \"4.45.2\",\n",
       "  \"use_cache\": true,\n",
       "  \"use_mrope\": false,\n",
       "  \"use_sliding_window\": false,\n",
       "  \"vocab_size\": 151936\n",
       "}"
      ]
     },
     "execution_count": 2,
     "metadata": {},
     "output_type": "execute_result"
    }
   ],
   "source": [
    "model_name = \"deepseek-ai/DeepSeek-R1-Distill-Qwen-1.5B\"\n",
    "\n",
    "model = AutoModelForCausalLM.from_pretrained(model_name, torch_dtype=\"bfloat16\", device_map=\"auto\")\n",
    "tokenizer = AutoTokenizer.from_pretrained(model_name)\n",
    "AutoConfig.from_pretrained(model_name)"
   ]
  },
  {
   "cell_type": "code",
   "execution_count": 13,
   "metadata": {},
   "outputs": [
    {
     "name": "stderr",
     "output_type": "stream",
     "text": [
      "The attention mask and the pad token id were not set. As a consequence, you may observe unexpected behavior. Please pass your input's `attention_mask` to obtain reliable results.\n",
      "Setting `pad_token_id` to `eos_token_id`:None for open-end generation.\n"
     ]
    },
    {
     "name": "stdout",
     "output_type": "stream",
     "text": [
      "<｜begin▁of▁sentence｜><｜User｜>Can penguins fly? Segment the thinking process into clear steps. Indicate \"YES\" or \"NO\" at the end of the steps.<｜Assistant｜><think>\n",
      "Okay, so I need to figure out whether penguins can fly. Hmm, I'm not entirely sure, but I'll try to break this down step by step.\n",
      "\n",
      "First, I remember that penguins are birds, but I think they're specifically known for their cold-blooded nature and their ability to swim. They live in the Southern Hemisphere, right? So maybe their flight capabilities are different from birds in other hemispheres.\n",
      "\n",
      "I've heard that penguins have a streamlined body shape, which makes them efficient in water. Maybe this shape helps them fly. But wait, how do birds fly? I know that birds use flapping their wings to push air backward, creating a thrust that moves them forward. Does penguins do something similar?\n",
      "\n",
      "I should think about their flight mechanics. Penguins are small and have a streamlined body, which might help them control their movement. They can swim, so maybe they can also fly by changing their shape or using their wings somehow. I'm not sure if their wings are as flexible as those in birds, which would make it easier for them to fly.\n",
      "\n",
      "I've also heard that penguins can glide, meaning they can fly without much effort. Maybe that's because their wings are shaped in a way that allows them to generate lift efficiently. But I'm not certain if that's their primary mode of flight or if it's more about their body structure.\n",
      "\n",
      "I'm a bit confused because I thought penguins were more about swimming than flying. Maybe they have a specialized part of their body that allows them to fly. I should also consider their habitat. Penguins live in colder waters, so maybe their flight is adapted to cold conditions, but I don't know if that's related to their ability to fly.\n",
      "\n",
      "I should look for any information I can find. From what I remember, penguins do fly, but I'm not sure if it's called flight or something else. Maybe they have a different term for it. I think I've heard terms like \"penguin flight\" before, which might be a term used in popular culture or science to refer to their ability to fly.\n",
      "\n",
      "Wait, but I'm not entirely sure. Maybe I should think about how birds fly and see if penguins fit the same criteria. Birds use flapping, wings, and streamlined bodies to move through water. Penguins have a similar body shape, so perhaps they can use a similar method to fly.\n",
      "\n",
      "I also recall that some birds can fly, like eagles and ostriches, but I'm not sure about penguins. Maybe penguins have a different mechanism for flight, or maybe they don't fly at all. I need to check if there's any evidence that penguins can fly or if it's still a mystery.\n",
      "\n",
      "I think I've heard that penguins can fly, but I'm not sure about the specifics. I should also consider if there's any scientific research supporting this. Maybe some studies show that penguins can fly, but others say they can't. I need to find a reliable source to confirm.\n",
      "\n",
      "Overall, I'm leaning towards the idea that penguins can fly, but I'm not entirely certain. I'll have to look into more information to make a confident answer.\n",
      "</think>\n",
      "\n",
      "NO<｜end▁of▁sentence｜>\n"
     ]
    }
   ],
   "source": [
    "inputs = tokenizer.apply_chat_template(\n",
    "    [\n",
    "        {\"role\": \"user\", \"content\": \"Can penguins fly? Segment the thinking process into clear steps. Indicate \\\"YES\\\" or \\\"NO\\\" at the end of the steps.\"},\n",
    "    ],\n",
    "    add_generation_prompt=True,\n",
    "    return_tensors=\"pt\",\n",
    ").to(\"cuda\")\n",
    "outputs = model.generate(input_ids=inputs, max_new_tokens=1200)\n",
    "print(tokenizer.decode(outputs[0]))"
   ]
  },
  {
   "cell_type": "code",
   "execution_count": 4,
   "metadata": {},
   "outputs": [],
   "source": [
    "def gather_residual_activations(model, target_layer, inputs):\n",
    "    target_act = None\n",
    "    def gather_target_act_hook(mod, inputs, outputs):\n",
    "        nonlocal target_act\n",
    "        target_act = inputs[0]  # Get residual stream from layer input\n",
    "        return outputs\n",
    "        \n",
    "    handle = model.model.layers[target_layer].register_forward_hook(gather_target_act_hook)\n",
    "    with torch.no_grad():\n",
    "        _ = model(inputs)\n",
    "    handle.remove()\n",
    "    return target_act"
   ]
  },
  {
   "cell_type": "code",
   "execution_count": 5,
   "metadata": {},
   "outputs": [],
   "source": [
    "target_act = gather_residual_activations(model, 11, inputs)"
   ]
  },
  {
   "cell_type": "code",
   "execution_count": 6,
   "metadata": {},
   "outputs": [
    {
     "data": {
      "text/plain": [
       "tensor([[151646, 151644,   6713,    281,  55358,  11466,     30,  37103,    279,\n",
       "           7274,   1882,   1119,   2797,   7354,     11,    323,   1372,   1817,\n",
       "           3019,     13, 151645, 151648,    198]], device='cuda:0')"
      ]
     },
     "execution_count": 6,
     "metadata": {},
     "output_type": "execute_result"
    }
   ],
   "source": [
    "inputs"
   ]
  },
  {
   "cell_type": "code",
   "execution_count": 7,
   "metadata": {},
   "outputs": [
    {
     "data": {
      "text/plain": [
       "torch.Size([1, 23, 1536])"
      ]
     },
     "execution_count": 7,
     "metadata": {},
     "output_type": "execute_result"
    }
   ],
   "source": [
    "target_act.shape"
   ]
  }
 ],
 "metadata": {
  "kernelspec": {
   "display_name": "arena-env",
   "language": "python",
   "name": "python3"
  },
  "language_info": {
   "codemirror_mode": {
    "name": "ipython",
    "version": 3
   },
   "file_extension": ".py",
   "mimetype": "text/x-python",
   "name": "python",
   "nbconvert_exporter": "python",
   "pygments_lexer": "ipython3",
   "version": "3.11.11"
  }
 },
 "nbformat": 4,
 "nbformat_minor": 2
}
