{
 "cells": [
  {
   "cell_type": "code",
   "execution_count": 25,
   "metadata": {},
   "outputs": [],
   "source": [
    "import torch\n",
    "import torch.nn as nn\n",
    "import torch.nn.functional as F\n",
    "from typing import Tuple\n",
    "\n",
    "from transformers import AutoModelForCausalLM, AutoTokenizer, AutoConfig\n",
    "import numpy as np"
   ]
  },
  {
   "cell_type": "code",
   "execution_count": 26,
   "metadata": {},
   "outputs": [
    {
     "data": {
      "text/plain": [
       "Qwen2Config {\n",
       "  \"_name_or_path\": \"deepseek-ai/DeepSeek-R1-Distill-Qwen-1.5B\",\n",
       "  \"architectures\": [\n",
       "    \"Qwen2ForCausalLM\"\n",
       "  ],\n",
       "  \"attention_dropout\": 0.0,\n",
       "  \"bos_token_id\": 151643,\n",
       "  \"eos_token_id\": 151643,\n",
       "  \"hidden_act\": \"silu\",\n",
       "  \"hidden_size\": 1536,\n",
       "  \"initializer_range\": 0.02,\n",
       "  \"intermediate_size\": 8960,\n",
       "  \"max_position_embeddings\": 131072,\n",
       "  \"max_window_layers\": 21,\n",
       "  \"model_type\": \"qwen2\",\n",
       "  \"num_attention_heads\": 12,\n",
       "  \"num_hidden_layers\": 28,\n",
       "  \"num_key_value_heads\": 2,\n",
       "  \"rms_norm_eps\": 1e-06,\n",
       "  \"rope_scaling\": null,\n",
       "  \"rope_theta\": 10000,\n",
       "  \"sliding_window\": null,\n",
       "  \"tie_word_embeddings\": false,\n",
       "  \"torch_dtype\": \"bfloat16\",\n",
       "  \"transformers_version\": \"4.45.2\",\n",
       "  \"use_cache\": true,\n",
       "  \"use_mrope\": false,\n",
       "  \"use_sliding_window\": false,\n",
       "  \"vocab_size\": 151936\n",
       "}"
      ]
     },
     "execution_count": 26,
     "metadata": {},
     "output_type": "execute_result"
    }
   ],
   "source": [
    "model_name = \"deepseek-ai/DeepSeek-R1-Distill-Qwen-1.5B\"\n",
    "\n",
    "model = AutoModelForCausalLM.from_pretrained(model_name, torch_dtype=\"bfloat16\", device_map=\"auto\")\n",
    "tokenizer = AutoTokenizer.from_pretrained(model_name)\n",
    "AutoConfig.from_pretrained(model_name)"
   ]
  },
  {
   "cell_type": "code",
   "execution_count": 62,
   "metadata": {},
   "outputs": [
    {
     "name": "stderr",
     "output_type": "stream",
     "text": [
      "/Users/bach/anaconda3/envs/arena-env/lib/python3.11/site-packages/transformers/generation/configuration_utils.py:601: UserWarning: `do_sample` is set to `False`. However, `temperature` is set to `0.6` -- this flag is only used in sample-based generation modes. You should set `do_sample=True` or unset `temperature`.\n",
      "  warnings.warn(\n",
      "/Users/bach/anaconda3/envs/arena-env/lib/python3.11/site-packages/transformers/generation/configuration_utils.py:606: UserWarning: `do_sample` is set to `False`. However, `top_p` is set to `0.95` -- this flag is only used in sample-based generation modes. You should set `do_sample=True` or unset `top_p`.\n",
      "  warnings.warn(\n",
      "The attention mask and the pad token id were not set. As a consequence, you may observe unexpected behavior. Please pass your input's `attention_mask` to obtain reliable results.\n",
      "Setting `pad_token_id` to `eos_token_id`:None for open-end generation.\n",
      "The attention mask and the pad token id were not set. As a consequence, you may observe unexpected behavior. Please pass your input's `attention_mask` to obtain reliable results.\n",
      "Setting `pad_token_id` to `eos_token_id`:None for open-end generation.\n"
     ]
    },
    {
     "name": "stdout",
     "output_type": "stream",
     "text": [
      "<｜begin▁of▁sentence｜><｜User｜>Can penguins fly? Segment the thinking process into clear steps and indicate \"YES\" or \"NO\" once at the end .<｜Assistant｜><think>\n",
      "Okay, so I'm trying to figure out whether penguins can fly. I know penguins are birds, but I'm not exactly sure about their flight capabilities. Let me break this down step by step.\n",
      "\n",
      "First, I remember that birds can fly, but I'm not sure if penguins fit into that category. I think they're known for being cold-blooded and having a streamlined body shape, which helps them fly. But does that mean they can fly? I'm not certain.\n",
      "\n",
      "Next, I should consider the physical characteristics of penguins. Penguins have a thick layer of snow cover on their body, which is pretty thick. I think this layer is called a body cover. I've heard that this helps them stay warm, but does it also aid in flight? I'm not sure.\n",
      "\n",
      "Then, I recall that penguins are adapted to cold environments. They have specialized wings called flippers, which I believe are used for flapping to fly. But I'm not sure if that's the same as flapping wings. I think flippers are used for swimming, not flying. So maybe penguins don't use flippers for flying.\n",
      "\n",
      "I also remember that penguins are small birds. They're not as big as, say, eagles or eaglets. That might mean they have smaller wings or less developed flight muscles. I think smaller animals have less efficient flight systems, so maybe penguins can't fly as well as larger birds.\n",
      "\n",
      "Another point is their diet. Penguins are known to feed on seals, which are birds. I think they use their beaks to break open the seals' eggs, which is a form of flight called diving. So they do fly, but it's not the same as bird flight. It's more like a specialized form of flight for diving.\n",
      "\n",
      "I should also think about the environment. Penguins live in ice-covered regions, so their flight might be limited by the cold. They can't fly as high as, say, eagles, but they can still fly. I think they can fly for short distances, maybe a few hundred meters, but not as far as some other birds.\n",
      "\n",
      "I'm trying to remember if there's any evidence or studies that show penguins can fly. I think some research suggests that penguins can fly, but it's not as common as, say, eagles or other birds. Maybe they can fly for short periods, but not continuously.\n",
      "\n",
      "Putting it all together, penguins are birds, have specialized flight muscles, and can fly, but it's not the same as bird flight. They use specialized wings and flippers for diving, not for flying. So, based on this, I think the answer is that penguins can fly, but it's not the same as bird flight.\n",
      "</think>\n",
      "\n",
      "NO<｜end▁of▁sentence｜>\n"
     ]
    },
    {
     "name": "stderr",
     "output_type": "stream",
     "text": [
      "The attention mask and the pad token id were not set. As a consequence, you may observe unexpected behavior. Please pass your input's `attention_mask` to obtain reliable results.\n",
      "Setting `pad_token_id` to `eos_token_id`:None for open-end generation.\n"
     ]
    },
    {
     "name": "stdout",
     "output_type": "stream",
     "text": [
      "<｜begin▁of▁sentence｜><｜User｜>Can penguins fly? Segment the thinking process into clear steps and indicate \"YES\" or \"NO\" once at the end .<｜Assistant｜><think>\n",
      "Okay, so I'm trying to figure out whether penguins can fly. I know penguins are birds, but I'm not exactly sure about their flight capabilities. Let me break this down step by step.\n",
      "\n",
      "First, I remember that birds can fly, but I'm not sure if penguins fit into that category. I think they're known for being cold-blooded and having a streamlined body shape, which helps them fly. But does that mean they can fly? I'm not certain.\n",
      "\n",
      "Next, I should consider the physical characteristics of penguins. Penguins have a thick layer of snow cover on their body, which is pretty thick. I think this layer is called a body cover. I've heard that this helps them stay warm, but does it also aid in flight? I'm not sure.\n",
      "\n",
      "Then, I recall that penguins are adapted to cold environments. They have specialized wings called flippers, which I believe are used for flapping to fly. But I'm not sure if that's the same as flapping wings. I think flippers are used for swimming, not flying. So maybe penguins don't use flippers for flying.\n",
      "\n",
      "I also remember that penguins are small birds. They're not as big as, say, eagles or eaglets. That might mean they have smaller wings or less developed flight muscles. I think smaller animals have less efficient flight systems, so maybe penguins can't fly as well as larger birds.\n",
      "\n",
      "Another point is their diet. Penguins are known to feed on seals, which are birds. I think they use their beaks to break open the seals' eggs, which is a form of flight called diving. So they do fly, but it's not the same as bird flight. It's more like a specialized form of flight for diving.\n",
      "\n",
      "I should also think about the environment. Penguins live in ice-covered regions, so their flight might be limited by the cold. They can't fly as high as, say, eagles, but they can still fly. I think they can fly for short distances, maybe a few hundred meters, but not as far as some other birds.\n",
      "\n",
      "I'm trying to remember if there's any evidence or studies that show penguins can fly. I think some research suggests that penguins can fly, but it's not as common as, say, eagles or other birds. Maybe they can fly for short periods, but not continuously.\n",
      "\n",
      "Putting it all together, penguins are birds, have specialized flight muscles, and can fly, but it's not the same as bird flight. They use specialized wings and flippers for diving, not for flying. So, based on this, I think the answer is that penguins can fly, but it's not the same as bird flight.\n",
      "</think>\n",
      "\n",
      "NO<｜end▁of▁sentence｜>\n"
     ]
    },
    {
     "name": "stderr",
     "output_type": "stream",
     "text": [
      "The attention mask and the pad token id were not set. As a consequence, you may observe unexpected behavior. Please pass your input's `attention_mask` to obtain reliable results.\n",
      "Setting `pad_token_id` to `eos_token_id`:None for open-end generation.\n"
     ]
    },
    {
     "name": "stdout",
     "output_type": "stream",
     "text": [
      "<｜begin▁of▁sentence｜><｜User｜>Can penguins fly? Segment the thinking process into clear steps and indicate \"YES\" or \"NO\" once at the end .<｜Assistant｜><think>\n",
      "Okay, so I'm trying to figure out whether penguins can fly. I know penguins are birds, but I'm not exactly sure about their flight capabilities. Let me break this down step by step.\n",
      "\n",
      "First, I remember that birds can fly, but I'm not sure if penguins fit into that category. I think they're known for being cold-blooded and having a streamlined body shape, which helps them fly. But does that mean they can fly? I'm not certain.\n",
      "\n",
      "Next, I should consider the physical characteristics of penguins. Penguins have a thick layer of snow cover on their body, which is pretty thick. I think this layer is called a body cover. I've heard that this helps them stay warm, but does it also aid in flight? I'm not sure.\n",
      "\n",
      "Then, I recall that penguins are adapted to cold environments. They have specialized wings called flippers, which I believe are used for flapping to fly. But I'm not sure if that's the same as flapping wings. I think flippers are used for swimming, not flying. So maybe penguins don't use flippers for flying.\n",
      "\n",
      "I also remember that penguins are small birds. They're not as big as, say, eagles or eaglets. That might mean they have smaller wings or less developed flight muscles. I think smaller animals have less efficient flight systems, so maybe penguins can't fly as well as larger birds.\n",
      "\n",
      "Another point is their diet. Penguins are known to feed on seals, which are birds. I think they use their beaks to break open the seals' eggs, which is a form of flight called diving. So they do fly, but it's not the same as bird flight. It's more like a specialized form of flight for diving.\n",
      "\n",
      "I should also think about the environment. Penguins live in ice-covered regions, so their flight might be limited by the cold. They can't fly as high as, say, eagles, but they can still fly. I think they can fly for short distances, maybe a few hundred meters, but not as far as some other birds.\n",
      "\n",
      "I'm trying to remember if there's any evidence or studies that show penguins can fly. I think some research suggests that penguins can fly, but it's not as common as, say, eagles or other birds. Maybe they can fly for short periods, but not continuously.\n",
      "\n",
      "Putting it all together, penguins are birds, have specialized flight muscles, and can fly, but it's not the same as bird flight. They use specialized wings and flippers for diving, not for flying. So, based on this, I think the answer is that penguins can fly, but it's not the same as bird flight.\n",
      "</think>\n",
      "\n",
      "NO<｜end▁of▁sentence｜>\n"
     ]
    },
    {
     "name": "stderr",
     "output_type": "stream",
     "text": [
      "The attention mask and the pad token id were not set. As a consequence, you may observe unexpected behavior. Please pass your input's `attention_mask` to obtain reliable results.\n",
      "Setting `pad_token_id` to `eos_token_id`:None for open-end generation.\n"
     ]
    },
    {
     "name": "stdout",
     "output_type": "stream",
     "text": [
      "<｜begin▁of▁sentence｜><｜User｜>Can penguins fly? Segment the thinking process into clear steps and indicate \"YES\" or \"NO\" once at the end .<｜Assistant｜><think>\n",
      "Okay, so I'm trying to figure out whether penguins can fly. I know penguins are birds, but I'm not exactly sure about their flight capabilities. Let me break this down step by step.\n",
      "\n",
      "First, I remember that birds can fly, but I'm not sure if penguins fit into that category. I think they're known for being cold-blooded and having a streamlined body shape, which helps them fly. But does that mean they can fly? I'm not certain.\n",
      "\n",
      "Next, I should consider the physical characteristics of penguins. Penguins have a thick layer of snow cover on their body, which is pretty thick. I think this layer is called a body cover. I've heard that this helps them stay warm, but does it also aid in flight? I'm not sure.\n",
      "\n",
      "Then, I recall that penguins are adapted to cold environments. They have specialized wings called flippers, which I believe are used for flapping to fly. But I'm not sure if that's the same as flapping wings. I think flippers are used for swimming, not flying. So maybe penguins don't use flippers for flying.\n",
      "\n",
      "I also remember that penguins are small birds. They're not as big as, say, eagles or eaglets. That might mean they have smaller wings or less developed flight muscles. I think smaller animals have less efficient flight systems, so maybe penguins can't fly as well as larger birds.\n",
      "\n",
      "Another point is their diet. Penguins are known to feed on seals, which are birds. I think they use their beaks to break open the seals' eggs, which is a form of flight called diving. So they do fly, but it's not the same as bird flight. It's more like a specialized form of flight for diving.\n",
      "\n",
      "I should also think about the environment. Penguins live in ice-covered regions, so their flight might be limited by the cold. They can't fly as high as, say, eagles, but they can still fly. I think they can fly for short distances, maybe a few hundred meters, but not as far as some other birds.\n",
      "\n",
      "I'm trying to remember if there's any evidence or studies that show penguins can fly. I think some research suggests that penguins can fly, but it's not as common as, say, eagles or other birds. Maybe they can fly for short periods, but not continuously.\n",
      "\n",
      "Putting it all together, penguins are birds, have specialized flight muscles, and can fly, but it's not the same as bird flight. They use specialized wings and flippers for diving, not for flying. So, based on this, I think the answer is that penguins can fly, but it's not the same as bird flight.\n",
      "</think>\n",
      "\n",
      "NO<｜end▁of▁sentence｜>\n",
      "<｜begin▁of▁sentence｜><｜User｜>Can penguins fly? Segment the thinking process into clear steps and indicate \"YES\" or \"NO\" once at the end .<｜Assistant｜><think>\n",
      "Okay, so I'm trying to figure out whether penguins can fly. I know penguins are birds, but I'm not exactly sure about their flight capabilities. Let me break this down step by step.\n",
      "\n",
      "First, I remember that birds can fly, but I'm not sure if penguins fit into that category. I think they're known for being cold-blooded and having a streamlined body shape, which helps them fly. But does that mean they can fly? I'm not certain.\n",
      "\n",
      "Next, I should consider the physical characteristics of penguins. Penguins have a thick layer of snow cover on their body, which is pretty thick. I think this layer is called a body cover. I've heard that this helps them stay warm, but does it also aid in flight? I'm not sure.\n",
      "\n",
      "Then, I recall that penguins are adapted to cold environments. They have specialized wings called flippers, which I believe are used for flapping to fly. But I'm not sure if that's the same as flapping wings. I think flippers are used for swimming, not flying. So maybe penguins don't use flippers for flying.\n",
      "\n",
      "I also remember that penguins are small birds. They're not as big as, say, eagles or eaglets. That might mean they have smaller wings or less developed flight muscles. I think smaller animals have less efficient flight systems, so maybe penguins can't fly as well as larger birds.\n",
      "\n",
      "Another point is their diet. Penguins are known to feed on seals, which are birds. I think they use their beaks to break open the seals' eggs, which is a form of flight called diving. So they do fly, but it's not the same as bird flight. It's more like a specialized form of flight for diving.\n",
      "\n",
      "I should also think about the environment. Penguins live in ice-covered regions, so their flight might be limited by the cold. They can't fly as high as, say, eagles, but they can still fly. I think they can fly for short distances, maybe a few hundred meters, but not as far as some other birds.\n",
      "\n",
      "I'm trying to remember if there's any evidence or studies that show penguins can fly. I think some research suggests that penguins can fly, but it's not as common as, say, eagles or other birds. Maybe they can fly for short periods, but not continuously.\n",
      "\n",
      "Putting it all together, penguins are birds, have specialized flight muscles, and can fly, but it's not the same as bird flight. They use specialized wings and flippers for diving, not for flying. So, based on this, I think the answer is that penguins can fly, but it's not the same as bird flight.\n",
      "</think>\n",
      "\n",
      "NO<｜end▁of▁sentence｜>\n"
     ]
    }
   ],
   "source": [
    "for i in range(5):\n",
    "    inputs = tokenizer.apply_chat_template(\n",
    "        [\n",
    "            {\"role\": \"user\", \"content\": \"Can penguins fly? Segment the thinking process into clear steps and indicate \\\"YES\\\" or \\\"NO\\\" once at the end .\"},\n",
    "        ],\n",
    "        add_generation_prompt=True,\n",
    "        return_tensors=\"pt\",\n",
    "    ).to(\"mps\")\n",
    "    outputs = model.generate(input_ids=inputs, max_new_tokens=1200, do_sample=False)\n",
    "    print(tokenizer.decode(outputs[0]))"
   ]
  },
  {
   "cell_type": "code",
   "execution_count": 52,
   "metadata": {},
   "outputs": [],
   "source": [
    "def gather_residual_activations(model, target_layer, inputs):\n",
    "    target_act = None\n",
    "    def gather_target_act_hook(mod, inputs, outputs):\n",
    "        nonlocal target_act\n",
    "        target_act = inputs[0]  # Get residual stream from layer input\n",
    "        return outputs\n",
    "        \n",
    "    handle = model.model.layers[target_layer].register_forward_hook(gather_target_act_hook)\n",
    "    with torch.no_grad():\n",
    "        _ = model(inputs)\n",
    "    handle.remove()\n",
    "    return target_act"
   ]
  },
  {
   "cell_type": "code",
   "execution_count": 53,
   "metadata": {},
   "outputs": [],
   "source": [
    "target_act = gather_residual_activations(model, 11, inputs)"
   ]
  },
  {
   "cell_type": "code",
   "execution_count": 54,
   "metadata": {},
   "outputs": [
    {
     "data": {
      "text/plain": [
       "tensor([[151646, 151644,   6713,    281,  55358,  11466,     30,  37103,    279,\n",
       "           7274,   1882,   1119,   2797,   7354,    323,  13216,    330,  14004,\n",
       "              1,    476,    330,   8996,      1,   3055,    518,    279,    835,\n",
       "            659, 151645, 151648,    198]], device='mps:0')"
      ]
     },
     "execution_count": 54,
     "metadata": {},
     "output_type": "execute_result"
    }
   ],
   "source": [
    "inputs"
   ]
  },
  {
   "cell_type": "code",
   "execution_count": 55,
   "metadata": {},
   "outputs": [
    {
     "data": {
      "text/plain": [
       "torch.Size([1, 31, 1536])"
      ]
     },
     "execution_count": 55,
     "metadata": {},
     "output_type": "execute_result"
    }
   ],
   "source": [
    "target_act.shape"
   ]
  },
  {
   "cell_type": "code",
   "execution_count": 56,
   "metadata": {},
   "outputs": [],
   "source": [
    "# TODO: is target_act deterministic (same inputs, multiple runs)?"
   ]
  },
  {
   "cell_type": "code",
   "execution_count": 57,
   "metadata": {},
   "outputs": [
    {
     "data": {
      "text/plain": [
       "tensor([[[-3.6562e+00, -2.5312e+00,  3.6000e+01,  ...,  9.4375e+00,\n",
       "           9.0000e+00,  2.1375e+01],\n",
       "         [-2.9062e+00, -2.3281e+00,  3.6000e+01,  ...,  9.8125e+00,\n",
       "           8.3125e+00,  2.1875e+01],\n",
       "         [ 2.2500e+00,  5.8594e-03, -3.5938e-01,  ..., -2.0312e-01,\n",
       "           1.1328e+00,  2.5977e-01],\n",
       "         ...,\n",
       "         [ 4.5312e+00, -3.9062e-03,  3.9062e-01,  ..., -2.6758e-01,\n",
       "          -5.5078e-01,  2.3438e+00],\n",
       "         [ 4.5625e+00,  5.0391e-01,  5.0391e-01,  ...,  4.2969e-02,\n",
       "           2.8125e-01,  5.8203e-01],\n",
       "         [ 3.1094e+00, -2.9688e+00,  5.0781e-02,  ...,  1.0703e+00,\n",
       "           1.9297e+00,  2.0000e+00]]], device='mps:0')"
      ]
     },
     "execution_count": 57,
     "metadata": {},
     "output_type": "execute_result"
    }
   ],
   "source": [
    "target_act"
   ]
  },
  {
   "cell_type": "code",
   "execution_count": 58,
   "metadata": {},
   "outputs": [
    {
     "data": {
      "text/plain": [
       "tensor([[[-3.6562e+00, -2.5312e+00,  3.6000e+01,  ...,  9.4375e+00,\n",
       "           9.0000e+00,  2.1375e+01],\n",
       "         [-2.9062e+00, -2.3281e+00,  3.6000e+01,  ...,  9.8125e+00,\n",
       "           8.3125e+00,  2.1875e+01],\n",
       "         [ 2.2500e+00,  5.8594e-03, -3.5938e-01,  ..., -2.0312e-01,\n",
       "           1.1328e+00,  2.5977e-01],\n",
       "         ...,\n",
       "         [ 4.5312e+00, -3.9062e-03,  3.9062e-01,  ..., -2.6758e-01,\n",
       "          -5.5078e-01,  2.3438e+00],\n",
       "         [ 4.5625e+00,  5.0391e-01,  5.0391e-01,  ...,  4.2969e-02,\n",
       "           2.8125e-01,  5.8203e-01],\n",
       "         [ 3.1094e+00, -2.9688e+00,  5.0781e-02,  ...,  1.0703e+00,\n",
       "           1.9297e+00,  2.0000e+00]]], device='mps:0')"
      ]
     },
     "execution_count": 58,
     "metadata": {},
     "output_type": "execute_result"
    }
   ],
   "source": [
    "gather_residual_activations(model, 11, inputs)"
   ]
  }
 ],
 "metadata": {
  "kernelspec": {
   "display_name": "arena-env",
   "language": "python",
   "name": "python3"
  },
  "language_info": {
   "codemirror_mode": {
    "name": "ipython",
    "version": 3
   },
   "file_extension": ".py",
   "mimetype": "text/x-python",
   "name": "python",
   "nbconvert_exporter": "python",
   "pygments_lexer": "ipython3",
   "version": "3.11.11"
  }
 },
 "nbformat": 4,
 "nbformat_minor": 2
}
